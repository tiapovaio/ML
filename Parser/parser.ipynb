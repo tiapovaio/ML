{
 "cells": [
  {
   "cell_type": "code",
   "execution_count": 21,
   "id": "initial_id",
   "metadata": {
    "collapsed": true,
    "ExecuteTime": {
     "end_time": "2024-10-17T22:39:04.629535Z",
     "start_time": "2024-10-17T22:39:04.619874200Z"
    }
   },
   "outputs": [],
   "source": [
    "import re\n",
    "import time\n",
    "import random\n",
    "import pandas as pd\n",
    "\n",
    "from bs4 import BeautifulSoup\n",
    "from selenium import webdriver\n",
    "from concurrent.futures import ThreadPoolExecutor\n",
    "from tqdm import tqdm"
   ]
  },
  {
   "cell_type": "code",
   "execution_count": 75,
   "outputs": [],
   "source": [
    "LINKS = [f\"https://www.kaggle.com/datasets?page={i}\" for i in range(2, 100)]\n",
    "HREFS = []"
   ],
   "metadata": {
    "collapsed": false,
    "ExecuteTime": {
     "end_time": "2024-10-18T15:38:32.509705500Z",
     "start_time": "2024-10-18T15:38:32.481129400Z"
    }
   },
   "id": "c937ed5208e38a16"
  },
  {
   "cell_type": "code",
   "execution_count": 76,
   "outputs": [],
   "source": [
    "def parseHrefs(url):\n",
    "    driver = webdriver.Chrome()\n",
    "    driver.get(url)\n",
    "\n",
    "    time.sleep(random.uniform(5, 10))\n",
    "    \n",
    "    html = driver.page_source\n",
    "    driver.quit()\n",
    "    \n",
    "    soup = BeautifulSoup(html, 'html.parser')\n",
    "    \n",
    "    links = []\n",
    "    for a in soup.find_all('a', href=True):\n",
    "        if '/datasets/' in a['href']:\n",
    "            links.append('https://www.kaggle.com' + a['href'])\n",
    "    \n",
    "    return links"
   ],
   "metadata": {
    "collapsed": false,
    "ExecuteTime": {
     "end_time": "2024-10-18T15:39:06.544340800Z",
     "start_time": "2024-10-18T15:39:06.505390400Z"
    }
   },
   "id": "1ca643f4f5aa6f2b"
  },
  {
   "cell_type": "code",
   "execution_count": 77,
   "outputs": [],
   "source": [
    "with ThreadPoolExecutor(max_workers=5) as executor:\n",
    "    results = list(executor.map(parseHrefs, LINKS))\n",
    "\n",
    "for result in results:\n",
    "    HREFS.extend(result)"
   ],
   "metadata": {
    "collapsed": false,
    "ExecuteTime": {
     "end_time": "2024-10-18T15:42:49.809819500Z",
     "start_time": "2024-10-18T15:39:12.201297400Z"
    }
   },
   "id": "c69f7fff2c2bf160"
  },
  {
   "cell_type": "code",
   "execution_count": 84,
   "outputs": [],
   "source": [
    "def fetch_page(url):\n",
    "    try:\n",
    "        driver = webdriver.Chrome()\n",
    "        driver.get(url)\n",
    "        time.sleep(random.uniform(5, 10))\n",
    "        html = driver.page_source\n",
    "        driver.quit()\n",
    "        soup = BeautifulSoup(html, 'html.parser')\n",
    "        \n",
    "        heading = soup.find('h1')\n",
    "        medal_part = soup.find('img', class_='sc-ljzhBY eCrtuc')\n",
    "        if medal_part is None:\n",
    "            medal = 'None'\n",
    "        else:\n",
    "            medal_part = str(medal_part)\n",
    "            if 'gold' in medal_part:\n",
    "                medal = 'Gold'\n",
    "            elif 'silver' in medal_part:\n",
    "                medal = 'Silver'\n",
    "            elif 'bronze' in medal_part:\n",
    "                medal = 'Bronze'\n",
    "        if heading is None:\n",
    "                return\n",
    "        heading = heading.get_text()\n",
    "        usability = soup.find('span', attrs={'data-testid': 'usability-value'}).get_text() \n",
    "        if usability is None:\n",
    "            return\n",
    "                \n",
    "        target = soup.find_all(string=lambda text: text and 'columns' in text)\n",
    "        if target is not None:\n",
    "            if len(target) == 2:\n",
    "                columns = extract_number(target[-1])\n",
    "            else:\n",
    "                return       \n",
    "                \n",
    "        data = []\n",
    "        buttons = soup.find_all(attrs={'role': 'checkbox'})\n",
    "        if len(buttons) > 0:\n",
    "            for button in buttons:\n",
    "                data.append(button.find('span').get_text())\n",
    "                \n",
    "            used_for_learning = data[0].split()[-1]\n",
    "            used_for_research = data[1].split()[-1]\n",
    "            used_for_application = data[2].split()[-1]\n",
    "            used_for_llm_fine_tuning = data[3].split()[-1]\n",
    "            well_documented = data[4].split()[-1]\n",
    "            well_maintained = data[5].split()[-1]\n",
    "            clean_data = data[6].split()[-1]\n",
    "            original = data[7].split()[-1]\n",
    "            high_quality_notebooks = data[8].split()[-1]\n",
    "        else:\n",
    "            return\n",
    "            \n",
    "        data = soup.find_all('div', class_='sc-cvFxSY fujiuq')\n",
    "        data = [x.find_all('span') for x in data]\n",
    "        if len(data) > 0:\n",
    "            views = extract_number(data[0][1].get_text())\n",
    "            downloads = extract_number(data[1][1].get_text())\n",
    "            engagements = data[2][1].get_text()\n",
    "            comments = data[3][1].get_text()\n",
    "        else:\n",
    "            return\n",
    "        \n",
    "        weight = soup.find('div', class_='sc-fYLTzp dnCYSt')\n",
    "        if weight is None:\n",
    "            return\n",
    "        weight = convert_to_kilobytes(weight.get_text())\n",
    "            \n",
    "        return heading, usability, columns, used_for_learning, used_for_research, used_for_application, used_for_llm_fine_tuning, well_documented, well_maintained, clean_data, original, high_quality_notebooks, views, downloads, engagements, comments, weight, medal\n",
    "    except Exception as e:\n",
    "        print(f\"Parsing error {url}: {e}\")\n",
    "        return\n",
    "    \n"
   ],
   "metadata": {
    "collapsed": false,
    "ExecuteTime": {
     "end_time": "2024-10-18T15:44:34.664578200Z",
     "start_time": "2024-10-18T15:44:34.645832Z"
    }
   },
   "id": "d49d6b05ff4d27d"
  },
  {
   "cell_type": "code",
   "execution_count": 85,
   "outputs": [],
   "source": [
    "def extract_number(s: str):\n",
    "    match = re.search(r'(\\d+(\\.\\d+)?)([kKmM]?)', s)\n",
    "\n",
    "    if match:\n",
    "        number = float(match.group(1))\n",
    "        suffix = match.group(3)\n",
    "\n",
    "        if suffix.lower() == 'k':\n",
    "            number *= 1000\n",
    "        elif suffix.lower() == 'm':\n",
    "            number *= 1000000 \n",
    "\n",
    "        return int(number)\n",
    "    \n",
    "    return None"
   ],
   "metadata": {
    "collapsed": false,
    "ExecuteTime": {
     "end_time": "2024-10-18T15:44:35.752166900Z",
     "start_time": "2024-10-18T15:44:35.702995500Z"
    }
   },
   "id": "b8a255da2a6892d2"
  },
  {
   "cell_type": "code",
   "execution_count": 86,
   "outputs": [],
   "source": [
    "def convert_to_kilobytes(string):\n",
    "    pattern = r'(\\d+\\.\\d+|\\d+)\\s?(B|kB|MB|GB|TB)'\n",
    "    match = re.search(pattern, string)\n",
    "    \n",
    "    if match:\n",
    "        size = float(match.group(1))\n",
    "        unit = match.group(2)\n",
    "\n",
    "        if unit == 'B':\n",
    "            return size / 1024\n",
    "        elif unit == 'kB':\n",
    "            return size\n",
    "        elif unit == 'MB':\n",
    "            return size * 1024\n",
    "        elif unit == 'GB':\n",
    "            return size * 1024 * 1024\n",
    "        elif unit == 'TB':\n",
    "            return size * 1024 * 1024 * 1024\n",
    "    else:\n",
    "        raise ValueError(\"Invalid input format. Please provide a valid size with unit.\")\n",
    " "
   ],
   "metadata": {
    "collapsed": false,
    "ExecuteTime": {
     "end_time": "2024-10-18T15:44:36.437814100Z",
     "start_time": "2024-10-18T15:44:36.427330800Z"
    }
   },
   "id": "1ba4d41120776c2f"
  },
  {
   "cell_type": "code",
   "execution_count": 87,
   "outputs": [],
   "source": [
    "def results(href):\n",
    "    return fetch_page(href)"
   ],
   "metadata": {
    "collapsed": false,
    "ExecuteTime": {
     "end_time": "2024-10-18T15:44:37.531335700Z",
     "start_time": "2024-10-18T15:44:37.515414700Z"
    }
   },
   "id": "6159682ba10ae30c"
  },
  {
   "cell_type": "code",
   "execution_count": 32,
   "outputs": [],
   "source": [
    "HEADINGS = []\n",
    "USABILITIES = []\n",
    "COLUMNS = []\n",
    "USED_FOR_LEARNING = []\n",
    "USED_FOR_RESEARCH = []\n",
    "USED_FOR_APPLICATION = []\n",
    "USED_FOR_LLM_FINETUNING = []\n",
    "WELL_DOCUMENTED = []\n",
    "WELL_MAINTAINED = []\n",
    "CLEAN_DATA = []\n",
    "ORIGINAL_DATA = []\n",
    "HIGH_QUALITY_NOTEBOOKS = []\n",
    "VIEWS = []\n",
    "DOWNLOADS = []\n",
    "ENGAGEMENTS = []\n",
    "COMMENTS = []\n",
    "WEIGHTS = []\n",
    "MEDALS = []"
   ],
   "metadata": {
    "collapsed": false,
    "ExecuteTime": {
     "end_time": "2024-10-17T23:03:39.474985900Z",
     "start_time": "2024-10-17T23:03:39.471764800Z"
    }
   },
   "id": "89103ff7733f0fee"
  },
  {
   "cell_type": "code",
   "execution_count": 88,
   "outputs": [
    {
     "name": "stderr",
     "output_type": "stream",
     "text": [
      "Parsing: 100%|██████████| 1028/1028 [1:09:05<00:00,  4.03s/it]\n"
     ]
    }
   ],
   "source": [
    "with ThreadPoolExecutor(max_workers=5) as executor:\n",
    "    results = list(tqdm(executor.map(results, HREFS), total=len(HREFS), desc='Parsing'))\n",
    "    \n",
    "    for result in results:\n",
    "        if result is not None: \n",
    "            HEADINGS.append(result[0])\n",
    "            USABILITIES.append(result[1])\n",
    "            COLUMNS.append(result[2])\n",
    "            USED_FOR_LEARNING.append(result[3])\n",
    "            USED_FOR_RESEARCH.append(result[4])\n",
    "            USED_FOR_APPLICATION.append(result[5])\n",
    "            USED_FOR_LLM_FINETUNING.append(result[6])\n",
    "            WELL_DOCUMENTED.append(result[7])\n",
    "            WELL_MAINTAINED.append(result[8])\n",
    "            CLEAN_DATA.append(result[9])\n",
    "            ORIGINAL_DATA.append(result[10])\n",
    "            HIGH_QUALITY_NOTEBOOKS.append(result[11])\n",
    "            VIEWS.append(result[12])\n",
    "            DOWNLOADS.append(result[13])\n",
    "            ENGAGEMENTS.append(result[14])\n",
    "            COMMENTS.append(result[15])\n",
    "            WEIGHTS.append(result[16])\n",
    "            MEDALS.append(result[17])"
   ],
   "metadata": {
    "collapsed": false,
    "ExecuteTime": {
     "end_time": "2024-10-18T16:54:00.072201Z",
     "start_time": "2024-10-18T15:44:54.848886400Z"
    }
   },
   "id": "eddd698dfbeb0c91"
  },
  {
   "cell_type": "code",
   "execution_count": 97,
   "outputs": [],
   "source": [
    "data = {\n",
    "    'headings': HEADINGS,\n",
    "    'usabilities': USABILITIES,\n",
    "    'used_for_learning': USED_FOR_LEARNING,\n",
    "    'used_for_research': USED_FOR_RESEARCH,\n",
    "    'used_for_application': USED_FOR_APPLICATION,\n",
    "    'used_for_llm_fine_tuning': USED_FOR_LLM_FINETUNING,\n",
    "    'well_documented': WELL_DOCUMENTED,\n",
    "    'well_maintained': WELL_MAINTAINED,\n",
    "    'clean_data': CLEAN_DATA,\n",
    "    'original': ORIGINAL_DATA,\n",
    "    'high_quality_notebooks': HIGH_QUALITY_NOTEBOOKS,\n",
    "    'views': VIEWS,\n",
    "    'downloads': DOWNLOADS,\n",
    "    'engagements': ENGAGEMENTS,\n",
    "    'comments': COMMENTS,\n",
    "    'weight': WEIGHTS,\n",
    "    'medal': MEDALS\n",
    "}"
   ],
   "metadata": {
    "collapsed": false,
    "ExecuteTime": {
     "end_time": "2024-10-18T17:01:38.002560600Z",
     "start_time": "2024-10-18T17:01:37.994233800Z"
    }
   },
   "id": "45ae29b58d2a8d14"
  },
  {
   "cell_type": "code",
   "execution_count": 98,
   "outputs": [],
   "source": [
    "df = pd.DataFrame(data)\n",
    "df.to_csv('data.csv', index=False, encoding='utf-8')\n",
    "df = pd.read_csv('data.csv')"
   ],
   "metadata": {
    "collapsed": false,
    "ExecuteTime": {
     "end_time": "2024-10-18T17:01:40.577769900Z",
     "start_time": "2024-10-18T17:01:40.567959700Z"
    }
   },
   "id": "704f4e24e660e33b"
  },
  {
   "cell_type": "code",
   "execution_count": 101,
   "outputs": [
    {
     "data": {
      "text/plain": "                                               headings  usabilities  \\\n0                   Top 50 Luxury Hotels Worldwide 2024        10.00   \n1                              World's Best Restaurants        10.00   \n2     Customer purchase behavior - Electronic Sales ...        10.00   \n3                            Melbourne Housing Snapshot         7.06   \n4                             Canadian Cheese Directory        10.00   \n...                                                 ...          ...   \n1294                               Microsoft Stock Data        10.00   \n1295                          Human vs. LLM Text Corpus        10.00   \n1296                        Anual Salary reports survey         8.24   \n1297                                   VideoGames Sales         6.76   \n1298                               Taxi Trajectory Data         5.88   \n\n      used_for_learning  used_for_research  used_for_application  \\\n0                     0                  0                     0   \n1                     5                  0                     0   \n2                    21                  0                     0   \n3                   247                 16                     9   \n4                     1                  0                     1   \n...                 ...                ...                   ...   \n1294                  6                  6                     1   \n1295                  6                  3                     3   \n1296                  3                  1                     0   \n1297                  7                  0                     0   \n1298                  0                  5                     0   \n\n      used_for_llm_fine_tuning  well_documented  well_maintained  clean_data  \\\n0                            0                0                0           0   \n1                            0                1                0           1   \n2                            0                6                0           0   \n3                            7               56               20          40   \n4                            0                0                0           0   \n...                        ...              ...              ...         ...   \n1294                         0                2                3           2   \n1295                         0                2                3           3   \n1296                         0                0                0           0   \n1297                         0                3                2           0   \n1298                         0                0                2           2   \n\n      original  high_quality_notebooks   views  downloads  engagements  \\\n0            0                       0    5036       1213      0.24087   \n1            0                       0    7018       1740      0.24793   \n2            1                       0   16300       4430      0.27158   \n3            8                      12  485000     160000      0.32983   \n4            0                       0    5255        938      0.17850   \n...        ...                     ...     ...        ...          ...   \n1294         2                       1   21400       3828      0.17858   \n1295         2                       4    8057       1196      0.14844   \n1296         0                       0   12500       2611      0.20960   \n1297         0                       1   20300       3725      0.18312   \n1298         0                       0   89600       8347      0.09313   \n\n      comments      weight   medal  \n0            0       14.69     NaN  \n1            0       63.19  Bronze  \n2            0     2488.32  Bronze  \n3           33     2140.16    Gold  \n4            1      147.11  Bronze  \n...        ...         ...     ...  \n1294         0      627.62  Bronze  \n1295         6  4037017.60    Gold  \n1296         0     3491.84  Bronze  \n1297         0      470.62     NaN  \n1298         7  2034237.44  Bronze  \n\n[1299 rows x 17 columns]",
      "text/html": "<div>\n<style scoped>\n    .dataframe tbody tr th:only-of-type {\n        vertical-align: middle;\n    }\n\n    .dataframe tbody tr th {\n        vertical-align: top;\n    }\n\n    .dataframe thead th {\n        text-align: right;\n    }\n</style>\n<table border=\"1\" class=\"dataframe\">\n  <thead>\n    <tr style=\"text-align: right;\">\n      <th></th>\n      <th>headings</th>\n      <th>usabilities</th>\n      <th>used_for_learning</th>\n      <th>used_for_research</th>\n      <th>used_for_application</th>\n      <th>used_for_llm_fine_tuning</th>\n      <th>well_documented</th>\n      <th>well_maintained</th>\n      <th>clean_data</th>\n      <th>original</th>\n      <th>high_quality_notebooks</th>\n      <th>views</th>\n      <th>downloads</th>\n      <th>engagements</th>\n      <th>comments</th>\n      <th>weight</th>\n      <th>medal</th>\n    </tr>\n  </thead>\n  <tbody>\n    <tr>\n      <th>0</th>\n      <td>Top 50 Luxury Hotels Worldwide 2024</td>\n      <td>10.00</td>\n      <td>0</td>\n      <td>0</td>\n      <td>0</td>\n      <td>0</td>\n      <td>0</td>\n      <td>0</td>\n      <td>0</td>\n      <td>0</td>\n      <td>0</td>\n      <td>5036</td>\n      <td>1213</td>\n      <td>0.24087</td>\n      <td>0</td>\n      <td>14.69</td>\n      <td>NaN</td>\n    </tr>\n    <tr>\n      <th>1</th>\n      <td>World's Best Restaurants</td>\n      <td>10.00</td>\n      <td>5</td>\n      <td>0</td>\n      <td>0</td>\n      <td>0</td>\n      <td>1</td>\n      <td>0</td>\n      <td>1</td>\n      <td>0</td>\n      <td>0</td>\n      <td>7018</td>\n      <td>1740</td>\n      <td>0.24793</td>\n      <td>0</td>\n      <td>63.19</td>\n      <td>Bronze</td>\n    </tr>\n    <tr>\n      <th>2</th>\n      <td>Customer purchase behavior - Electronic Sales ...</td>\n      <td>10.00</td>\n      <td>21</td>\n      <td>0</td>\n      <td>0</td>\n      <td>0</td>\n      <td>6</td>\n      <td>0</td>\n      <td>0</td>\n      <td>1</td>\n      <td>0</td>\n      <td>16300</td>\n      <td>4430</td>\n      <td>0.27158</td>\n      <td>0</td>\n      <td>2488.32</td>\n      <td>Bronze</td>\n    </tr>\n    <tr>\n      <th>3</th>\n      <td>Melbourne Housing Snapshot</td>\n      <td>7.06</td>\n      <td>247</td>\n      <td>16</td>\n      <td>9</td>\n      <td>7</td>\n      <td>56</td>\n      <td>20</td>\n      <td>40</td>\n      <td>8</td>\n      <td>12</td>\n      <td>485000</td>\n      <td>160000</td>\n      <td>0.32983</td>\n      <td>33</td>\n      <td>2140.16</td>\n      <td>Gold</td>\n    </tr>\n    <tr>\n      <th>4</th>\n      <td>Canadian Cheese Directory</td>\n      <td>10.00</td>\n      <td>1</td>\n      <td>0</td>\n      <td>1</td>\n      <td>0</td>\n      <td>0</td>\n      <td>0</td>\n      <td>0</td>\n      <td>0</td>\n      <td>0</td>\n      <td>5255</td>\n      <td>938</td>\n      <td>0.17850</td>\n      <td>1</td>\n      <td>147.11</td>\n      <td>Bronze</td>\n    </tr>\n    <tr>\n      <th>...</th>\n      <td>...</td>\n      <td>...</td>\n      <td>...</td>\n      <td>...</td>\n      <td>...</td>\n      <td>...</td>\n      <td>...</td>\n      <td>...</td>\n      <td>...</td>\n      <td>...</td>\n      <td>...</td>\n      <td>...</td>\n      <td>...</td>\n      <td>...</td>\n      <td>...</td>\n      <td>...</td>\n      <td>...</td>\n    </tr>\n    <tr>\n      <th>1294</th>\n      <td>Microsoft Stock Data</td>\n      <td>10.00</td>\n      <td>6</td>\n      <td>6</td>\n      <td>1</td>\n      <td>0</td>\n      <td>2</td>\n      <td>3</td>\n      <td>2</td>\n      <td>2</td>\n      <td>1</td>\n      <td>21400</td>\n      <td>3828</td>\n      <td>0.17858</td>\n      <td>0</td>\n      <td>627.62</td>\n      <td>Bronze</td>\n    </tr>\n    <tr>\n      <th>1295</th>\n      <td>Human vs. LLM Text Corpus</td>\n      <td>10.00</td>\n      <td>6</td>\n      <td>3</td>\n      <td>3</td>\n      <td>0</td>\n      <td>2</td>\n      <td>3</td>\n      <td>3</td>\n      <td>2</td>\n      <td>4</td>\n      <td>8057</td>\n      <td>1196</td>\n      <td>0.14844</td>\n      <td>6</td>\n      <td>4037017.60</td>\n      <td>Gold</td>\n    </tr>\n    <tr>\n      <th>1296</th>\n      <td>Anual Salary reports survey</td>\n      <td>8.24</td>\n      <td>3</td>\n      <td>1</td>\n      <td>0</td>\n      <td>0</td>\n      <td>0</td>\n      <td>0</td>\n      <td>0</td>\n      <td>0</td>\n      <td>0</td>\n      <td>12500</td>\n      <td>2611</td>\n      <td>0.20960</td>\n      <td>0</td>\n      <td>3491.84</td>\n      <td>Bronze</td>\n    </tr>\n    <tr>\n      <th>1297</th>\n      <td>VideoGames Sales</td>\n      <td>6.76</td>\n      <td>7</td>\n      <td>0</td>\n      <td>0</td>\n      <td>0</td>\n      <td>3</td>\n      <td>2</td>\n      <td>0</td>\n      <td>0</td>\n      <td>1</td>\n      <td>20300</td>\n      <td>3725</td>\n      <td>0.18312</td>\n      <td>0</td>\n      <td>470.62</td>\n      <td>NaN</td>\n    </tr>\n    <tr>\n      <th>1298</th>\n      <td>Taxi Trajectory Data</td>\n      <td>5.88</td>\n      <td>0</td>\n      <td>5</td>\n      <td>0</td>\n      <td>0</td>\n      <td>0</td>\n      <td>2</td>\n      <td>2</td>\n      <td>0</td>\n      <td>0</td>\n      <td>89600</td>\n      <td>8347</td>\n      <td>0.09313</td>\n      <td>7</td>\n      <td>2034237.44</td>\n      <td>Bronze</td>\n    </tr>\n  </tbody>\n</table>\n<p>1299 rows × 17 columns</p>\n</div>"
     },
     "execution_count": 101,
     "metadata": {},
     "output_type": "execute_result"
    }
   ],
   "source": [
    "df"
   ],
   "metadata": {
    "collapsed": false,
    "ExecuteTime": {
     "end_time": "2024-10-18T17:01:42.922926500Z",
     "start_time": "2024-10-18T17:01:42.912096500Z"
    }
   },
   "id": "5399ddce5d78d568"
  }
 ],
 "metadata": {
  "kernelspec": {
   "display_name": "Python 3",
   "language": "python",
   "name": "python3"
  },
  "language_info": {
   "codemirror_mode": {
    "name": "ipython",
    "version": 2
   },
   "file_extension": ".py",
   "mimetype": "text/x-python",
   "name": "python",
   "nbconvert_exporter": "python",
   "pygments_lexer": "ipython2",
   "version": "2.7.6"
  }
 },
 "nbformat": 4,
 "nbformat_minor": 5
}
